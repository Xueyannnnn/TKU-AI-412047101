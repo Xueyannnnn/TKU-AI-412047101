{
 "cells": [
  {
   "cell_type": "code",
   "execution_count": 7,
   "id": "cf95c04a",
   "metadata": {},
   "outputs": [
    {
     "name": "stdout",
     "output_type": "stream",
     "text": [
      "Defaulting to user installation because normal site-packages is not writeable\n",
      "Requirement already satisfied: pytesseract in c:\\users\\aa\\appdata\\roaming\\python\\python310\\site-packages (0.3.10)\n",
      "Requirement already satisfied: Pillow>=8.0.0 in c:\\programdata\\anaconda3\\lib\\site-packages (from pytesseract) (9.4.0)\n",
      "Requirement already satisfied: packaging>=21.3 in c:\\programdata\\anaconda3\\lib\\site-packages (from pytesseract) (22.0)\n"
     ]
    },
    {
     "name": "stderr",
     "output_type": "stream",
     "text": [
      "'apt-get' 不是內部或外部命令、可執行的程式或批次檔。\n",
      "'apt-get' 不是內部或外部命令、可執行的程式或批次檔。\n",
      "'apt-get' 不是內部或外部命令、可執行的程式或批次檔。\n"
     ]
    },
    {
     "ename": "ModuleNotFoundError",
     "evalue": "No module named 'cv2'",
     "output_type": "error",
     "traceback": [
      "\u001b[1;31m---------------------------------------------------------------------------\u001b[0m",
      "\u001b[1;31mModuleNotFoundError\u001b[0m                       Traceback (most recent call last)",
      "Cell \u001b[1;32mIn[7], line 7\u001b[0m\n\u001b[0;32m      3\u001b[0m get_ipython()\u001b[38;5;241m.\u001b[39msystem(\u001b[38;5;124m'\u001b[39m\u001b[38;5;124mapt-get install libtesseract-dev\u001b[39m\u001b[38;5;124m'\u001b[39m)\n\u001b[0;32m      4\u001b[0m get_ipython()\u001b[38;5;241m.\u001b[39msystem(\u001b[38;5;124m'\u001b[39m\u001b[38;5;124mapt-get install tesseract-ocr-chi-sim\u001b[39m\u001b[38;5;124m'\u001b[39m)\n\u001b[1;32m----> 7\u001b[0m \u001b[38;5;28;01mimport\u001b[39;00m \u001b[38;5;21;01mcv2\u001b[39;00m\n\u001b[0;32m      8\u001b[0m \u001b[38;5;28;01mimport\u001b[39;00m \u001b[38;5;21;01mpytesseract\u001b[39;00m\n\u001b[0;32m     10\u001b[0m \u001b[38;5;66;03m# 讀取圖像\u001b[39;00m\n",
      "\u001b[1;31mModuleNotFoundError\u001b[0m: No module named 'cv2'"
     ]
    }
   ],
   "source": [
    "!pip install pytesseract\n",
    "!apt-get install tesseract-ocr\n",
    "!apt-get install libtesseract-dev\n",
    "!apt-get install tesseract-ocr-chi-sim\n",
    "\n",
    "\n",
    "import cv2\n",
    "import pytesseract\n",
    "\n",
    "# 讀取圖像\n",
    "image = cv2.imread('car_plate.jpg')\n",
    "\n",
    "# 將圖像轉換為灰度圖層\n",
    "gray = cv2.cvtColor(image, cv2.COLOR_BGR2GRAY)\n",
    "\n",
    "# 使用OpenCV進行圖像處理，例如模糊化、二值化\n",
    "gray = cv2.GaussianBlur(gray, (5, 5), 0)\n",
    "thresh = cv2.threshold(gray, 0, 255, cv2.THRESH_BINARY + cv2.THRESH_OTSU)[1]\n",
    "\n",
    "# 使用Tesseract進行文字識別\n",
    "text = pytesseract.image_to_string(thresh, config='--psm 6')\n",
    "\n",
    "# 顯示識別的文字\n",
    "print(\"辨識結果:\", text)\n",
    "\n",
    "# 顯示原始圖像\n",
    "cv2.imshow('原始圖像', image)\n",
    "cv2.waitKey(0)\n",
    "cv2.destroyAllWindows()"
   ]
  }
 ],
 "metadata": {
  "kernelspec": {
   "display_name": "Python 3 (ipykernel)",
   "language": "python",
   "name": "python3"
  },
  "language_info": {
   "codemirror_mode": {
    "name": "ipython",
    "version": 3
   },
   "file_extension": ".py",
   "mimetype": "text/x-python",
   "name": "python",
   "nbconvert_exporter": "python",
   "pygments_lexer": "ipython3",
   "version": "3.10.9"
  }
 },
 "nbformat": 4,
 "nbformat_minor": 5
}
